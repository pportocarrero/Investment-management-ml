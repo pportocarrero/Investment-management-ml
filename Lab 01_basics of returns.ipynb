{
 "cells": [
  {
   "cell_type": "markdown",
   "source": [
    "# Lab session on returns\n",
    "\n",
    "To calculate returns, you have to think in terms of numerical expressions of percentages and the effect of compounding"
   ],
   "metadata": {
    "collapsed": false
   }
  },
  {
   "cell_type": "code",
   "execution_count": 102,
   "outputs": [
    {
     "name": "stdout",
     "output_type": "stream",
     "text": [
      "[8.7  8.91 8.71]\n"
     ]
    }
   ],
   "source": [
    "import numpy as np # This is a library that helps to work with numbers in pythons\n",
    "\n",
    "prices_array = np.array([8.70, 8.91, 8.71])\n",
    "\n",
    "print(prices_array)"
   ],
   "metadata": {
    "collapsed": false
   }
  },
  {
   "cell_type": "markdown",
   "source": [
    "## Let's calculate the returns of price slicing the array"
   ],
   "metadata": {
    "collapsed": false
   }
  },
  {
   "cell_type": "code",
   "execution_count": 103,
   "outputs": [
    {
     "data": {
      "text/plain": "array([ 0.02413793, -0.02244669])"
     },
     "execution_count": 103,
     "metadata": {},
     "output_type": "execute_result"
    }
   ],
   "source": [
    "# prices[1:] This will slice the array since the position 1 (8.91 up until 8.71)\n",
    "\n",
    "# prices[:-1] This will slice the array since the position 0 up until the last element (8.7 and 8.91)\n",
    "\n",
    "prices_array[1:] / prices_array[:-1] - 1"
   ],
   "metadata": {
    "collapsed": false
   }
  },
  {
   "cell_type": "markdown",
   "source": [
    "Pandas is a library that allows us to work with dataframes (matrices of information) and manipulate them for our analysis"
   ],
   "metadata": {
    "collapsed": false
   }
  },
  {
   "cell_type": "code",
   "execution_count": 104,
   "outputs": [
    {
     "data": {
      "text/plain": "   BLUE  ORANGE\n0  8.70   10.66\n1  8.91   11.08\n2  8.71   10.71\n3  8.43   11.59\n4  8.73   12.11",
      "text/html": "<div>\n<style scoped>\n    .dataframe tbody tr th:only-of-type {\n        vertical-align: middle;\n    }\n\n    .dataframe tbody tr th {\n        vertical-align: top;\n    }\n\n    .dataframe thead th {\n        text-align: right;\n    }\n</style>\n<table border=\"1\" class=\"dataframe\">\n  <thead>\n    <tr style=\"text-align: right;\">\n      <th></th>\n      <th>BLUE</th>\n      <th>ORANGE</th>\n    </tr>\n  </thead>\n  <tbody>\n    <tr>\n      <th>0</th>\n      <td>8.70</td>\n      <td>10.66</td>\n    </tr>\n    <tr>\n      <th>1</th>\n      <td>8.91</td>\n      <td>11.08</td>\n    </tr>\n    <tr>\n      <th>2</th>\n      <td>8.71</td>\n      <td>10.71</td>\n    </tr>\n    <tr>\n      <th>3</th>\n      <td>8.43</td>\n      <td>11.59</td>\n    </tr>\n    <tr>\n      <th>4</th>\n      <td>8.73</td>\n      <td>12.11</td>\n    </tr>\n  </tbody>\n</table>\n</div>"
     },
     "execution_count": 104,
     "metadata": {},
     "output_type": "execute_result"
    }
   ],
   "source": [
    "import pandas as pd # Library to work with matrices\n",
    "\n",
    "prices = pd.DataFrame(\n",
    "    {'BLUE': [8.70, 8.91, 8.71, 8.43, 8.73],\n",
    "    'ORANGE': [10.66, 11.08, 10.71, 11.59, 12.11]\n",
    "     }\n",
    ")\n",
    "\n",
    "prices"
   ],
   "metadata": {
    "collapsed": false
   }
  },
  {
   "cell_type": "markdown",
   "source": [
    "## Calculate the returns slicing the pandas dataframe\n",
    "\n",
    "We need to use iloc and values commands"
   ],
   "metadata": {
    "collapsed": false
   }
  },
  {
   "cell_type": "code",
   "execution_count": 105,
   "outputs": [
    {
     "data": {
      "text/plain": "       BLUE    ORANGE\n0  0.024138  0.039400\n1 -0.022447 -0.033394\n2 -0.032147  0.082166\n3  0.035587  0.044866",
      "text/html": "<div>\n<style scoped>\n    .dataframe tbody tr th:only-of-type {\n        vertical-align: middle;\n    }\n\n    .dataframe tbody tr th {\n        vertical-align: top;\n    }\n\n    .dataframe thead th {\n        text-align: right;\n    }\n</style>\n<table border=\"1\" class=\"dataframe\">\n  <thead>\n    <tr style=\"text-align: right;\">\n      <th></th>\n      <th>BLUE</th>\n      <th>ORANGE</th>\n    </tr>\n  </thead>\n  <tbody>\n    <tr>\n      <th>0</th>\n      <td>0.024138</td>\n      <td>0.039400</td>\n    </tr>\n    <tr>\n      <th>1</th>\n      <td>-0.022447</td>\n      <td>-0.033394</td>\n    </tr>\n    <tr>\n      <th>2</th>\n      <td>-0.032147</td>\n      <td>0.082166</td>\n    </tr>\n    <tr>\n      <th>3</th>\n      <td>0.035587</td>\n      <td>0.044866</td>\n    </tr>\n  </tbody>\n</table>\n</div>"
     },
     "execution_count": 105,
     "metadata": {},
     "output_type": "execute_result"
    }
   ],
   "source": [
    "ret_df = prices.iloc[1:].values / prices.iloc[:-1] - 1\n",
    "\n",
    "ret_df"
   ],
   "metadata": {
    "collapsed": false
   }
  },
  {
   "cell_type": "markdown",
   "source": [
    "Now we can use the shift command to simplify the calculation"
   ],
   "metadata": {
    "collapsed": false
   }
  },
  {
   "cell_type": "code",
   "execution_count": 106,
   "outputs": [
    {
     "data": {
      "text/plain": "       BLUE    ORANGE\n0       NaN       NaN\n1  0.024138  0.039400\n2 -0.022447 -0.033394\n3 -0.032147  0.082166\n4  0.035587  0.044866",
      "text/html": "<div>\n<style scoped>\n    .dataframe tbody tr th:only-of-type {\n        vertical-align: middle;\n    }\n\n    .dataframe tbody tr th {\n        vertical-align: top;\n    }\n\n    .dataframe thead th {\n        text-align: right;\n    }\n</style>\n<table border=\"1\" class=\"dataframe\">\n  <thead>\n    <tr style=\"text-align: right;\">\n      <th></th>\n      <th>BLUE</th>\n      <th>ORANGE</th>\n    </tr>\n  </thead>\n  <tbody>\n    <tr>\n      <th>0</th>\n      <td>NaN</td>\n      <td>NaN</td>\n    </tr>\n    <tr>\n      <th>1</th>\n      <td>0.024138</td>\n      <td>0.039400</td>\n    </tr>\n    <tr>\n      <th>2</th>\n      <td>-0.022447</td>\n      <td>-0.033394</td>\n    </tr>\n    <tr>\n      <th>3</th>\n      <td>-0.032147</td>\n      <td>0.082166</td>\n    </tr>\n    <tr>\n      <th>4</th>\n      <td>0.035587</td>\n      <td>0.044866</td>\n    </tr>\n  </tbody>\n</table>\n</div>"
     },
     "execution_count": 106,
     "metadata": {},
     "output_type": "execute_result"
    }
   ],
   "source": [
    "returns_df = prices / prices.shift(1) - 1\n",
    "\n",
    "returns_df"
   ],
   "metadata": {
    "collapsed": false
   }
  },
  {
   "cell_type": "markdown",
   "source": [
    "Now, we can use an even better way to calculate returns"
   ],
   "metadata": {
    "collapsed": false
   }
  },
  {
   "cell_type": "code",
   "execution_count": 107,
   "outputs": [
    {
     "data": {
      "text/plain": "       BLUE    ORANGE\n0       NaN       NaN\n1  0.024138  0.039400\n2 -0.022447 -0.033394\n3 -0.032147  0.082166\n4  0.035587  0.044866",
      "text/html": "<div>\n<style scoped>\n    .dataframe tbody tr th:only-of-type {\n        vertical-align: middle;\n    }\n\n    .dataframe tbody tr th {\n        vertical-align: top;\n    }\n\n    .dataframe thead th {\n        text-align: right;\n    }\n</style>\n<table border=\"1\" class=\"dataframe\">\n  <thead>\n    <tr style=\"text-align: right;\">\n      <th></th>\n      <th>BLUE</th>\n      <th>ORANGE</th>\n    </tr>\n  </thead>\n  <tbody>\n    <tr>\n      <th>0</th>\n      <td>NaN</td>\n      <td>NaN</td>\n    </tr>\n    <tr>\n      <th>1</th>\n      <td>0.024138</td>\n      <td>0.039400</td>\n    </tr>\n    <tr>\n      <th>2</th>\n      <td>-0.022447</td>\n      <td>-0.033394</td>\n    </tr>\n    <tr>\n      <th>3</th>\n      <td>-0.032147</td>\n      <td>0.082166</td>\n    </tr>\n    <tr>\n      <th>4</th>\n      <td>0.035587</td>\n      <td>0.044866</td>\n    </tr>\n  </tbody>\n</table>\n</div>"
     },
     "execution_count": 107,
     "metadata": {},
     "output_type": "execute_result"
    }
   ],
   "source": [
    "returns_df_2 = prices.pct_change()\n",
    "\n",
    "returns_df_2"
   ],
   "metadata": {
    "collapsed": false
   }
  },
  {
   "cell_type": "markdown",
   "source": [
    "# Fire up external data\n",
    "\n",
    "Use pandas to load external data, in this case a csv file"
   ],
   "metadata": {
    "collapsed": false
   }
  },
  {
   "cell_type": "code",
   "execution_count": 108,
   "outputs": [],
   "source": [
    "prices = pd.read_csv('dbs/sample_prices.csv')"
   ],
   "metadata": {
    "collapsed": false
   }
  },
  {
   "cell_type": "code",
   "execution_count": 109,
   "outputs": [],
   "source": [
    "returns = prices.pct_change()"
   ],
   "metadata": {
    "collapsed": false
   }
  },
  {
   "cell_type": "markdown",
   "source": [
    "Graph the prices using the command plot"
   ],
   "metadata": {
    "collapsed": false
   }
  },
  {
   "cell_type": "code",
   "execution_count": 110,
   "outputs": [
    {
     "data": {
      "text/plain": "<AxesSubplot:>"
     },
     "execution_count": 110,
     "metadata": {},
     "output_type": "execute_result"
    },
    {
     "data": {
      "text/plain": "<Figure size 432x288 with 1 Axes>",
      "image/png": "[encoded data removed]"
     },
     "metadata": {
      "needs_background": "light"
     },
     "output_type": "display_data"
    }
   ],
   "source": [
    "prices.plot()"
   ],
   "metadata": {
    "collapsed": false
   }
  },
  {
   "cell_type": "markdown",
   "source": [
    "Now let's chart the returns"
   ],
   "metadata": {
    "collapsed": false
   }
  },
  {
   "cell_type": "code",
   "execution_count": 111,
   "outputs": [
    {
     "data": {
      "text/plain": "<AxesSubplot:>"
     },
     "execution_count": 111,
     "metadata": {},
     "output_type": "execute_result"
    },
    {
     "data": {
      "text/plain": "<Figure size 432x288 with 1 Axes>",
      "image/png": "[encoded data removed]"
     },
     "metadata": {
      "needs_background": "light"
     },
     "output_type": "display_data"
    }
   ],
   "source": [
    "returns.plot.bar()"
   ],
   "metadata": {
    "collapsed": false
   }
  },
  {
   "cell_type": "markdown",
   "source": [
    "Using the std command we can calculate the standard deviation of the dataframe, which is a measure of volatility of the stocks (risk)"
   ],
   "metadata": {
    "collapsed": false
   }
  },
  {
   "cell_type": "code",
   "execution_count": 112,
   "outputs": [
    {
     "data": {
      "text/plain": "STOCK A    0.023977\nSTOCK B    0.079601\ndtype: float64"
     },
     "execution_count": 112,
     "metadata": {},
     "output_type": "execute_result"
    }
   ],
   "source": [
    "returns.std()"
   ],
   "metadata": {
    "collapsed": false
   }
  },
  {
   "cell_type": "markdown",
   "source": [
    "The mean command calculates the mean return of both stocks"
   ],
   "metadata": {
    "collapsed": false
   }
  },
  {
   "cell_type": "code",
   "execution_count": 113,
   "outputs": [
    {
     "data": {
      "text/plain": "STOCK A    0.01\nSTOCK B    0.01\ndtype: float64"
     },
     "execution_count": 113,
     "metadata": {},
     "output_type": "execute_result"
    }
   ],
   "source": [
    "returns.mean()"
   ],
   "metadata": {
    "collapsed": false
   }
  },
  {
   "cell_type": "markdown",
   "source": [
    "To calculate the compounded return of each stock, we can use the prod command. But remember, we need to add 1 to each return and then substract 1 to the final number"
   ],
   "metadata": {
    "collapsed": false
   }
  },
  {
   "cell_type": "code",
   "execution_count": 114,
   "outputs": [
    {
     "data": {
      "text/plain": "STOCK A    0.123310\nSTOCK B    0.087167\ndtype: float64"
     },
     "execution_count": 114,
     "metadata": {},
     "output_type": "execute_result"
    }
   ],
   "source": [
    "(returns + 1).prod() -1"
   ],
   "metadata": {
    "collapsed": false
   }
  },
  {
   "cell_type": "markdown",
   "source": [
    "## Calculate the annualized return\n",
    "\n",
    "Let's say we have a monthly return of 3%"
   ],
   "metadata": {
    "collapsed": false
   }
  },
  {
   "cell_type": "code",
   "execution_count": 115,
   "outputs": [],
   "source": [
    "ret = 0.03"
   ],
   "metadata": {
    "collapsed": false
   }
  },
  {
   "cell_type": "markdown",
   "source": [
    "The annualized return of 3% would be the compounding of this return 12 times"
   ],
   "metadata": {
    "collapsed": false
   }
  },
  {
   "cell_type": "code",
   "execution_count": 116,
   "outputs": [
    {
     "data": {
      "text/plain": "0.4257608868461793"
     },
     "execution_count": 116,
     "metadata": {},
     "output_type": "execute_result"
    }
   ],
   "source": [
    "(1 + ret)**12 - 1"
   ],
   "metadata": {
    "collapsed": false
   }
  },
  {
   "cell_type": "markdown",
   "source": [
    "Let's show this information a little bit better, rounding it to 2 decimals"
   ],
   "metadata": {
    "collapsed": false
   }
  },
  {
   "cell_type": "code",
   "execution_count": 117,
   "outputs": [
    {
     "name": "stdout",
     "output_type": "stream",
     "text": [
      "42.58\n"
     ]
    }
   ],
   "source": [
    "print(round((((1 + ret)**12 - 1) * 100), 2))"
   ],
   "metadata": {
    "collapsed": false
   }
  },
  {
   "cell_type": "code",
   "execution_count": 118,
   "outputs": [],
   "source": [
    "import pandas as pd\n",
    "\n",
    "prices = pd.read_csv('data/sample_prices.csv')\n",
    "\n",
    "returns = prices.pct_change().dropna()"
   ],
   "metadata": {
    "collapsed": false
   }
  },
  {
   "cell_type": "markdown",
   "source": [
    "Decomposing the estimation of std. deviations"
   ],
   "metadata": {
    "collapsed": false
   }
  },
  {
   "cell_type": "code",
   "execution_count": 119,
   "outputs": [
    {
     "data": {
      "text/plain": "BLUE      0.022957\nORANGE    0.076212\ndtype: float64"
     },
     "execution_count": 119,
     "metadata": {},
     "output_type": "execute_result"
    }
   ],
   "source": [
    "import numpy as np\n",
    "\n",
    "deviations = returns - returns.mean()\n",
    "\n",
    "squared_deviations = deviations ** 2\n",
    "\n",
    "variance = squared_deviations.mean()\n",
    "\n",
    "volatility = np.sqrt(variance)\n",
    "\n",
    "volatility #  This gives the population standard deviation"
   ],
   "metadata": {
    "collapsed": false
   }
  },
  {
   "cell_type": "markdown",
   "source": [
    "Let's work on the sample std dev."
   ],
   "metadata": {
    "collapsed": false
   }
  },
  {
   "cell_type": "code",
   "execution_count": 120,
   "outputs": [],
   "source": [
    "number_obs = returns.shape[0]\n",
    "\n",
    "sample_variance = squared_deviations.sum() / (number_obs - 1)\n",
    "\n",
    "volatility = sample_variance ** 0.5"
   ],
   "metadata": {
    "collapsed": false
   }
  },
  {
   "cell_type": "code",
   "execution_count": 121,
   "outputs": [
    {
     "data": {
      "text/plain": "BLUE      0.023977\nORANGE    0.079601\ndtype: float64"
     },
     "execution_count": 121,
     "metadata": {},
     "output_type": "execute_result"
    }
   ],
   "source": [
    "volatility"
   ],
   "metadata": {
    "collapsed": false
   }
  },
  {
   "cell_type": "code",
   "execution_count": 122,
   "outputs": [
    {
     "data": {
      "text/plain": "BLUE      0.023977\nORANGE    0.079601\ndtype: float64"
     },
     "execution_count": 122,
     "metadata": {},
     "output_type": "execute_result"
    }
   ],
   "source": [
    "returns.std()"
   ],
   "metadata": {
    "collapsed": false
   }
  },
  {
   "cell_type": "markdown",
   "source": [
    "Annualizing the std. dev."
   ],
   "metadata": {
    "collapsed": false
   }
  },
  {
   "cell_type": "code",
   "execution_count": 123,
   "outputs": [
    {
     "data": {
      "text/plain": "BLUE      0.083060\nORANGE    0.275747\ndtype: float64"
     },
     "execution_count": 123,
     "metadata": {},
     "output_type": "execute_result"
    }
   ],
   "source": [
    "returns.std() * np.sqrt(12)"
   ],
   "metadata": {
    "collapsed": false
   }
  },
  {
   "cell_type": "markdown",
   "source": [
    "# Let's fire up a portfolio"
   ],
   "metadata": {
    "collapsed": false
   }
  },
  {
   "cell_type": "code",
   "execution_count": 124,
   "outputs": [],
   "source": [
    "import pandas as pd\n",
    "import numpy as np\n",
    "\n",
    "me_m = pd.read_csv('data/Portfolios_Formed_on_ME_monthly_EW.csv', header=0, index_col=0, parse_dates=True, na_values=-99.99)"
   ],
   "metadata": {
    "collapsed": false
   }
  },
  {
   "cell_type": "markdown",
   "source": [
    "Let's only use the large and small cap companies"
   ],
   "metadata": {
    "collapsed": false
   }
  },
  {
   "cell_type": "code",
   "execution_count": 125,
   "outputs": [
    {
     "data": {
      "text/plain": "        Lo 10  Hi 10\n192607  -1.45   3.29\n192608   5.12   3.70\n192609   0.93   0.67\n192610  -4.84  -2.43\n192611  -0.78   2.70",
      "text/html": "<div>\n<style scoped>\n    .dataframe tbody tr th:only-of-type {\n        vertical-align: middle;\n    }\n\n    .dataframe tbody tr th {\n        vertical-align: top;\n    }\n\n    .dataframe thead th {\n        text-align: right;\n    }\n</style>\n<table border=\"1\" class=\"dataframe\">\n  <thead>\n    <tr style=\"text-align: right;\">\n      <th></th>\n      <th>Lo 10</th>\n      <th>Hi 10</th>\n    </tr>\n  </thead>\n  <tbody>\n    <tr>\n      <th>192607</th>\n      <td>-1.45</td>\n      <td>3.29</td>\n    </tr>\n    <tr>\n      <th>192608</th>\n      <td>5.12</td>\n      <td>3.70</td>\n    </tr>\n    <tr>\n      <th>192609</th>\n      <td>0.93</td>\n      <td>0.67</td>\n    </tr>\n    <tr>\n      <th>192610</th>\n      <td>-4.84</td>\n      <td>-2.43</td>\n    </tr>\n    <tr>\n      <th>192611</th>\n      <td>-0.78</td>\n      <td>2.70</td>\n    </tr>\n  </tbody>\n</table>\n</div>"
     },
     "execution_count": 125,
     "metadata": {},
     "output_type": "execute_result"
    }
   ],
   "source": [
    "cols = ['Lo 10', 'Hi 10']\n",
    "\n",
    "returns = me_m[cols]\n",
    "\n",
    "returns.head()"
   ],
   "metadata": {
    "collapsed": false
   }
  },
  {
   "cell_type": "markdown",
   "source": [
    "Because the data is multiplied by 100 to represent %, let's use the numerical representation (divided by 100)"
   ],
   "metadata": {
    "collapsed": false
   }
  },
  {
   "cell_type": "code",
   "execution_count": 126,
   "outputs": [
    {
     "data": {
      "text/plain": "<AxesSubplot:>"
     },
     "execution_count": 126,
     "metadata": {},
     "output_type": "execute_result"
    },
    {
     "data": {
      "text/plain": "<Figure size 432x288 with 1 Axes>",
      "image/png": "[encoded data removed]"
     },
     "metadata": {
      "needs_background": "light"
     },
     "output_type": "display_data"
    }
   ],
   "source": [
    "returns = returns / 100\n",
    "\n",
    "returns.plot()"
   ],
   "metadata": {
    "collapsed": false
   }
  },
  {
   "cell_type": "code",
   "execution_count": 127,
   "outputs": [
    {
     "data": {
      "text/plain": "<AxesSubplot:>"
     },
     "execution_count": 127,
     "metadata": {},
     "output_type": "execute_result"
    },
    {
     "data": {
      "text/plain": "<Figure size 432x288 with 1 Axes>",
      "image/png": "[encoded data removed]"
     },
     "metadata": {
      "needs_background": "light"
     },
     "output_type": "display_data"
    }
   ],
   "source": [
    "returns.columns = ['Small Cap', 'Large Cap']\n",
    "\n",
    "returns.plot()"
   ],
   "metadata": {
    "collapsed": false
   }
  },
  {
   "cell_type": "code",
   "execution_count": 128,
   "outputs": [
    {
     "data": {
      "text/plain": "Small Cap    0.368193\nLarge Cap    0.186716\ndtype: float64"
     },
     "execution_count": 128,
     "metadata": {},
     "output_type": "execute_result"
    }
   ],
   "source": [
    "annualized_volatility = returns.std() * np.sqrt(12)\n",
    "\n",
    "annualized_volatility"
   ],
   "metadata": {
    "collapsed": false
   }
  },
  {
   "cell_type": "markdown",
   "source": [
    "Annualizing the returns"
   ],
   "metadata": {
    "collapsed": false
   }
  },
  {
   "cell_type": "code",
   "execution_count": 130,
   "outputs": [
    {
     "data": {
      "text/plain": "Small Cap    0.012986\nLarge Cap    0.007423\ndtype: float64"
     },
     "execution_count": 130,
     "metadata": {},
     "output_type": "execute_result"
    }
   ],
   "source": [
    "n_months = returns.shape[0]\n",
    "\n",
    "return_per_month = (returns + 1).prod() ** (1 / n_months) - 1\n",
    "\n",
    "return_per_month"
   ],
   "metadata": {
    "collapsed": false
   }
  },
  {
   "cell_type": "code",
   "execution_count": 131,
   "outputs": [
    {
     "data": {
      "text/plain": "Small Cap    0.167463\nLarge Cap    0.092810\ndtype: float64"
     },
     "execution_count": 131,
     "metadata": {},
     "output_type": "execute_result"
    }
   ],
   "source": [
    "annualized_return = (return_per_month + 1) ** 12 - 1\n",
    "\n",
    "annualized_return"
   ],
   "metadata": {
    "collapsed": false
   }
  },
  {
   "cell_type": "markdown",
   "source": [
    "Another way of estimating it"
   ],
   "metadata": {
    "collapsed": false
   }
  },
  {
   "cell_type": "code",
   "execution_count": 132,
   "outputs": [
    {
     "data": {
      "text/plain": "Small Cap    0.167463\nLarge Cap    0.092810\ndtype: float64"
     },
     "execution_count": 132,
     "metadata": {},
     "output_type": "execute_result"
    }
   ],
   "source": [
    "annualized_return = (returns + 1).prod() ** (12 / n_months) - 1\n",
    "\n",
    "annualized_return"
   ],
   "metadata": {
    "collapsed": false
   }
  },
  {
   "cell_type": "markdown",
   "source": [
    "## Risk adjusted return"
   ],
   "metadata": {
    "collapsed": false
   }
  },
  {
   "cell_type": "code",
   "execution_count": 133,
   "outputs": [
    {
     "data": {
      "text/plain": "Small Cap    0.454825\nLarge Cap    0.497063\ndtype: float64"
     },
     "execution_count": 133,
     "metadata": {},
     "output_type": "execute_result"
    }
   ],
   "source": [
    "ratio = annualized_return / annualized_volatility\n",
    "\n",
    "ratio"
   ],
   "metadata": {
    "collapsed": false
   }
  },
  {
   "cell_type": "markdown",
   "source": [
    "## Now let's include this on the Sharpe ratio"
   ],
   "metadata": {
    "collapsed": false
   }
  },
  {
   "cell_type": "code",
   "execution_count": 134,
   "outputs": [
    {
     "data": {
      "text/plain": "Small Cap    0.373346\nLarge Cap    0.336392\ndtype: float64"
     },
     "execution_count": 134,
     "metadata": {},
     "output_type": "execute_result"
    }
   ],
   "source": [
    "risk_free_rat = 0.03\n",
    "\n",
    "excees_return = annualized_return - risk_free_rat\n",
    "\n",
    "sharpe_ratio = excees_return / annualized_volatility\n",
    "\n",
    "sharpe_ratio"
   ],
   "metadata": {
    "collapsed": false
   }
  }
 ],
 "metadata": {
  "kernelspec": {
   "display_name": "Python 3",
   "language": "python",
   "name": "python3"
  },
  "language_info": {
   "codemirror_mode": {
    "name": "ipython",
    "version": 2
   },
   "file_extension": ".py",
   "mimetype": "text/x-python",
   "name": "python",
   "nbconvert_exporter": "python",
   "pygments_lexer": "ipython2",
   "version": "2.7.6"
  }
 },
 "nbformat": 4,
 "nbformat_minor": 0
}
