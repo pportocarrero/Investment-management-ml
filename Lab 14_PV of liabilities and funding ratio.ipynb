{
 "cells": [
  {
   "cell_type": "markdown",
   "id": "50005eab-73dc-401b-82d2-09912106fcce",
   "metadata": {},
   "source": [
    "### Present Value of Liabilities and Funding Ratio\n",
    "\n",
    "$$ PV(L) = \\sum_{i=1}^{k} B(t_i) L_i$$\n",
    "\n",
    "When:\n",
    "\n",
    "$$B(t) = \\frac{1}{(1+r)^t}$$"
   ]
  },
  {
   "cell_type": "code",
   "execution_count": 1,
   "id": "2a6f3d75-c4be-4e1d-a35c-7eb693e385c9",
   "metadata": {},
   "outputs": [],
   "source": [
    "import numpy as np\n",
    "import pandas as pd\n",
    "import risk_toolkit as rk\n",
    "import ipywidgets as widgets\n",
    "from IPython.display import display\n",
    "%load_ext autoreload\n",
    "%autoreload 2\n",
    "%reload_ext autoreload\n",
    "%matplotlib inline"
   ]
  },
  {
   "cell_type": "code",
   "execution_count": 2,
   "id": "37fe78a5-0711-4a56-827d-712801330b7d",
   "metadata": {},
   "outputs": [
    {
     "data": {
      "text/plain": [
       "0.7440939148967249"
      ]
     },
     "execution_count": 2,
     "metadata": {},
     "output_type": "execute_result"
    }
   ],
   "source": [
    "rk.discount(10, 0.03)"
   ]
  },
  {
   "cell_type": "code",
   "execution_count": 3,
   "id": "26bbaeb4",
   "metadata": {
    "collapsed": false,
    "jupyter": {
     "outputs_hidden": false
    }
   },
   "outputs": [
    {
     "data": {
      "text/plain": [
       "0.7440939148967249"
      ]
     },
     "execution_count": 3,
     "metadata": {},
     "output_type": "execute_result"
    }
   ],
   "source": [
    "rk.discount(10, 0.03)"
   ]
  },
  {
   "cell_type": "code",
   "execution_count": 4,
   "id": "e159f4f9",
   "metadata": {
    "collapsed": false,
    "jupyter": {
     "outputs_hidden": false
    }
   },
   "outputs": [],
   "source": [
    "liabilities = pd.Series(data=[1, 1.5, 2, 2.5], index=[3, 3.5, 4, 4.5])"
   ]
  },
  {
   "cell_type": "code",
   "execution_count": 5,
   "id": "450bb03a",
   "metadata": {
    "collapsed": false,
    "jupyter": {
     "outputs_hidden": false
    }
   },
   "outputs": [
    {
     "data": {
      "text/plain": [
       "6.233320315080044"
      ]
     },
     "execution_count": 5,
     "metadata": {},
     "output_type": "execute_result"
    }
   ],
   "source": [
    "rk.present_value(liabilities, 0.03)"
   ]
  },
  {
   "cell_type": "markdown",
   "id": "49cc0eed",
   "metadata": {},
   "source": [
    "Interpretation: I owe USD 7 million (liabilities) in the future, but the present value of that is USD 6.23 million"
   ]
  },
  {
   "cell_type": "code",
   "execution_count": 6,
   "id": "10e09521",
   "metadata": {
    "collapsed": false,
    "jupyter": {
     "outputs_hidden": false
    }
   },
   "outputs": [
    {
     "data": {
      "text/plain": [
       "0.8021407126958778"
      ]
     },
     "execution_count": 6,
     "metadata": {},
     "output_type": "execute_result"
    }
   ],
   "source": [
    "rk.funding_ratio(5, liabilities, 0.03)"
   ]
  },
  {
   "cell_type": "markdown",
   "id": "ede83123",
   "metadata": {},
   "source": [
    "Interpretation: We are under-funded. The USD 5 million in assets cannot meet all future liabilities"
   ]
  },
  {
   "cell_type": "code",
   "execution_count": 21,
   "id": "5f429d37-e19f-4c4a-9974-fd22c5c29ad1",
   "metadata": {},
   "outputs": [],
   "source": [
    "def show_funding_ratio(assets, interest_rate):\n",
    "    \n",
    "    fr = rk.funding_ratio(assets, liabilities, interest_rate)\n",
    "    \n",
    "    print(f'Funding ratio: {fr*100:.2f}')"
   ]
  },
  {
   "cell_type": "code",
   "execution_count": 26,
   "id": "cdddbf5a",
   "metadata": {
    "collapsed": false,
    "jupyter": {
     "outputs_hidden": false
    }
   },
   "outputs": [],
   "source": [
    "controls = widgets.interactive(show_funding_ratio,\n",
    "                               assets = widgets.IntSlider(min=1, max=10, step=1, value=5, description='Assets'),\n",
    "                               interest_rate = widgets.FloatSlider(min=0.0, max=0.20, step=0.01, value=0.03, description='Interest rate')\n",
    "                              )"
   ]
  },
  {
   "cell_type": "code",
   "execution_count": 27,
   "id": "49c9e023-a31c-4df1-9d16-6cb51bc735d2",
   "metadata": {},
   "outputs": [
    {
     "data": {
      "application/vnd.jupyter.widget-view+json": {
       "model_id": "d8fb050a667843f682e506300394252c",
       "version_major": 2,
       "version_minor": 0
      },
      "text/plain": [
       "interactive(children=(IntSlider(value=5, description='Assets', max=10, min=1), FloatSlider(value=0.03, descrip…"
      ]
     },
     "metadata": {},
     "output_type": "display_data"
    }
   ],
   "source": [
    "display(controls)"
   ]
  },
  {
   "cell_type": "code",
   "execution_count": null,
   "id": "8237645a-8f65-4a07-83a1-58897392c84a",
   "metadata": {},
   "outputs": [],
   "source": []
  }
 ],
 "metadata": {
  "kernelspec": {
   "display_name": "Python 3 (ipykernel)",
   "language": "python",
   "name": "python3"
  },
  "language_info": {
   "codemirror_mode": {
    "name": "ipython",
    "version": 3
   },
   "file_extension": ".py",
   "mimetype": "text/x-python",
   "name": "python",
   "nbconvert_exporter": "python",
   "pygments_lexer": "ipython3",
   "version": "3.9.13"
  }
 },
 "nbformat": 4,
 "nbformat_minor": 5
}
