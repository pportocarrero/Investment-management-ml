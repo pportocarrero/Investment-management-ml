{
 "cells": [
  {
   "cell_type": "markdown",
   "id": "ee2d0673-8e40-416f-835e-3d308ffff54a",
   "metadata": {},
   "source": [
    "### CIR Model and cash vs Zero-Coupon Bonds"
   ]
  },
  {
   "cell_type": "code",
   "execution_count": null,
   "id": "74c6aa8c-5141-49a4-92fa-570337d18ece",
   "metadata": {},
   "outputs": [],
   "source": [
    "%load_ext autoreload\n",
    "%autoreload 2\n",
    "%reload_ext autoreload\n",
    "%matplotlib inline\n",
    "import risk_toolkit as rk\n",
    "import pandas as pd\n",
    "import numpy as np"
   ]
  }
 ],
 "metadata": {
  "kernelspec": {
   "display_name": "Python 3 (ipykernel)",
   "language": "python",
   "name": "python3"
  },
  "language_info": {
   "codemirror_mode": {
    "name": "ipython",
    "version": 3
   },
   "file_extension": ".py",
   "mimetype": "text/x-python",
   "name": "python",
   "nbconvert_exporter": "python",
   "pygments_lexer": "ipython3",
   "version": "3.9.13"
  }
 },
 "nbformat": 4,
 "nbformat_minor": 5
}
