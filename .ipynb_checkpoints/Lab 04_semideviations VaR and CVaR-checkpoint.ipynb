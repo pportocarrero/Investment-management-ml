{
 "cells": [
  {
   "cell_type": "markdown",
   "id": "3427a0c9-7c07-4a12-ac91-a52ba1515d10",
   "metadata": {},
   "source": [
    "## Let's fire up some libraries"
   ]
  },
  {
   "cell_type": "code",
   "execution_count": 3,
   "id": "78f8975d-40d8-433e-bb94-e218bc95f6ed",
   "metadata": {},
   "outputs": [
    {
     "name": "stdout",
     "output_type": "stream",
     "text": [
      "The autoreload extension is already loaded. To reload it, use:\n",
      "  %reload_ext autoreload\n"
     ]
    }
   ],
   "source": [
    "%load_ext autoreload\n",
    "%autoreload 2\n",
    "%reload_ext autoreload\n",
    "\n",
    "import pandas as pd\n",
    "import risk_toolkit as rk"
   ]
  },
  {
   "cell_type": "code",
   "execution_count": null,
   "id": "1094fb45-94b2-4372-b0c7-a268cff7ab10",
   "metadata": {},
   "outputs": [],
   "source": []
  }
 ],
 "metadata": {
  "kernelspec": {
   "display_name": "Python 3 (ipykernel)",
   "language": "python",
   "name": "python3"
  },
  "language_info": {
   "codemirror_mode": {
    "name": "ipython",
    "version": 3
   },
   "file_extension": ".py",
   "mimetype": "text/x-python",
   "name": "python",
   "nbconvert_exporter": "python",
   "pygments_lexer": "ipython3",
   "version": "3.9.12"
  }
 },
 "nbformat": 4,
 "nbformat_minor": 5
}
